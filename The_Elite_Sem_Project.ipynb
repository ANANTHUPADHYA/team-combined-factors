{
  "nbformat": 4,
  "nbformat_minor": 0,
  "metadata": {
    "colab": {
      "name": "The-Elite-Sem-Project.ipynb",
      "provenance": [],
      "collapsed_sections": [],
      "include_colab_link": true
    },
    "kernelspec": {
      "name": "python3",
      "display_name": "Python 3"
    },
    "language_info": {
      "name": "python"
    }
  },
  "cells": [
    {
      "cell_type": "markdown",
      "metadata": {
        "id": "view-in-github",
        "colab_type": "text"
      },
      "source": [
        "<a href=\"https://colab.research.google.com/github/ANANTHUPADHYA/team-combined-factors/blob/main/The_Elite_Sem_Project.ipynb\" target=\"_parent\"><img src=\"https://colab.research.google.com/assets/colab-badge.svg\" alt=\"Open In Colab\"/></a>"
      ]
    },
    {
      "cell_type": "markdown",
      "metadata": {
        "id": "5DIWQ4VYYq05"
      },
      "source": [
        "#Project Description - Team The Elite\n",
        "\n",
        "###Approach\n",
        "#####Load the Data\n",
        "#####Distillation Process\n",
        "#####Data Cleaning and Text Preprocessing\n",
        "#####Visualization\n",
        "#####**Features/Factors**:\n",
        "      Feature 1 : Sentiment Analysis\n",
        "      Feature 2 : Toxicity\n",
        "      Feature 3 : Veracity\n",
        "      Feature 4 : Stance\n",
        "####**TRAINED MODELS** - MERGE ALL MODELS INTO SINGLE MODEL USING POLYNOMIAL EQUATION\n",
        "####**RESULT** - using Truth-o-Meter on a scale of (1-6)\n",
        "\n",
        "####**Pipeline For Inference** - running 20 inference on live data\n",
        "\n",
        "\n",
        "\n",
        "###**Team Member Contributions**\n",
        "\n",
        "####**Sentiment Analysis**: *Deesha Desai*\n",
        "####**Toxicity**: *Preeti Parihar*\n",
        "####**Veracity**: *Ananth Upadhya*\n",
        "####**Stance**: *Priyanka Devendran*"
      ]
    },
    {
      "cell_type": "markdown",
      "metadata": {
        "id": "L-OCp0vEDgeh"
      },
      "source": [
        "# **Team Member: Ananth Upadhya**\n",
        "### **Context Veracity Factor**\n",
        "\n",
        "Fake news can take on many forms, including photoshopped images, fake user-generated content or spoofed accounts, network-based content designed to appeal to a particular organization or group, as well as knowledge-based stories that contain a scientific or reasonable explanation of unresolved issues, often resulting in the spread of false information.\n",
        "\n",
        "### **Data Narrative**\n",
        "Misinformation detection, which has become an increasingly important topic in Natural Language Processing. Misinformation refers to the distribution of false information in the context of news.\n",
        "\n",
        "For this Assignment the Liar Liar Plus dataset is used. The Liar Liar Plus dataset provides information about the source of a news and the score count for the source. For each source it determines the number of False / Ture counts. This information was not included in the original Liar Liar dataset. Hence in the Liar Liar plus dataset further analysis of the source is included.\n",
        "\n",
        "Along with this Politifact scrapped data is also used. For each news post Politifact proiveds source information which is also scrapped to gather relaibility of the source.\n",
        "\n",
        "More info realted to context veracity work can be found on :- https://github.com/ANANTHUPADHYA/team-combined-factors/blob/main/Context_Veracity_Main.ipynb\n",
        "\n",
        "\n",
        "##The performance analysis on all the below models gave the following scores. We can see that Random forest gives the best accuracy!!\n",
        "\n",
        "########### Classifier Comparison ############\n",
        "\n",
        "```\n",
        "Classifier = Nearest Neighbors, Accuracy Score = 20.22, Training time = 0.07 seconds\n",
        "\n",
        "\n",
        "Classifier = Linear SVM, Accuracy Score = 25.17, Training time = 4.16 seconds\n",
        "\n",
        "\n",
        "Classifier = RBF SVM, Accuracy Score = 27.11, Training time = 10.87 seconds\n",
        "\n",
        "\n",
        "Classifier = Decision Tree, Accuracy Score = 26.86, Training time = 0.01 seconds\n",
        "\n",
        "\n",
        "Classifier = Random Forest, Accuracy Score = 27.16, Training time = 0.04 seconds\n",
        "\n",
        "\n",
        "Classifier = Neural Net, Accuracy Score = 26.16, Training time = 2.28 seconds\n",
        "\n",
        "\n",
        "Classifier = AdaBoost, Accuracy Score = 25.47, Training time = 0.31 seconds\n",
        "\n",
        "\n",
        "Classifier = Naive Bayes, Accuracy Score = 25.17, Training time = 0.01 seconds\n",
        "\n",
        "\n",
        "Classifier = QDA, Accuracy Score = 25.17, Training time = 0.03 seconds\n",
        "\n",
        "```\n",
        "\n",
        "**Best --> Classifier = Random Forest, Score (test, accuracy) = 27.16**"
      ]
    },
    {
      "cell_type": "markdown",
      "metadata": {
        "id": "XwHHan-5YpJJ"
      },
      "source": [
        ""
      ]
    },
    {
      "cell_type": "code",
      "metadata": {
        "colab": {
          "base_uri": "https://localhost:8080/"
        },
        "id": "bNso5lZvEpEC",
        "outputId": "18128467-3711-4e25-ec4e-1fc3f3b0ae77"
      },
      "source": [
        "import pandas as pd\n",
        "import numpy as np\n",
        "import csv\n",
        "import gensim\n",
        "from sklearn.model_selection import train_test_split\n",
        "import re\n",
        "import nltk\n",
        "nltk.download('stopwords')\n",
        "nltk.download('averaged_perceptron_tagger')\n",
        "from scipy import sparse\n",
        "from google_drive_downloader import GoogleDriveDownloader as gdd\n",
        "from nltk.stem import PorterStemmer\n",
        "from nltk.tokenize import word_tokenize \n",
        "nltk.download('punkt')\n",
        "from zipfile import ZipFile\n",
        "import pickle\n",
        "from sklearn.feature_extraction.text import CountVectorizer\n",
        "from googlesearch import search\n",
        "import keras"
      ],
      "execution_count": null,
      "outputs": [
        {
          "output_type": "stream",
          "name": "stdout",
          "text": [
            "[nltk_data] Downloading package stopwords to /root/nltk_data...\n",
            "[nltk_data]   Unzipping corpora/stopwords.zip.\n",
            "[nltk_data] Downloading package averaged_perceptron_tagger to\n",
            "[nltk_data]     /root/nltk_data...\n",
            "[nltk_data]   Unzipping taggers/averaged_perceptron_tagger.zip.\n",
            "[nltk_data] Downloading package punkt to /root/nltk_data...\n",
            "[nltk_data]   Unzipping tokenizers/punkt.zip.\n"
          ]
        }
      ]
    },
    {
      "cell_type": "code",
      "metadata": {
        "id": "v_mSJf_GDiIk",
        "colab": {
          "base_uri": "https://localhost:8080/"
        },
        "outputId": "e954f189-bb55-4b0a-e596-67c197e636bc"
      },
      "source": [
        "##https://drive.google.com/file/d/1lsIK9u69gF2cyWfRRqdiPoF647v0sJL0/view?usp=sharing\n",
        "\n",
        "gdd.download_file_from_google_drive(file_id='1lsIK9u69gF2cyWfRRqdiPoF647v0sJL0',\n",
        "                              dest_path='./models.zip',\n",
        "                              unzip=False)\n",
        "model = None \n",
        "colnames = ['jsonid', 'label', 'headline_text', 'subject', 'speaker', 'speakerjobtitle', 'stateinfo','partyaffiliation', 'barelytruecounts', 'falsecounts','halftruecounts','mostlytruecounts','pantsonfirecounts','context', 'text']\n",
        "\n",
        "# unpickling models\n",
        "names = [\"Random Forest\"]\n",
        "with ZipFile('models.zip', 'r') as myzip:\n",
        "    for name in names:\n",
        "        model = pickle.load(myzip.open(f'{name}_model.pickle'))"
      ],
      "execution_count": null,
      "outputs": [
        {
          "output_type": "stream",
          "name": "stdout",
          "text": [
            "Downloading 1lsIK9u69gF2cyWfRRqdiPoF647v0sJL0 into ./models.zip... Done.\n"
          ]
        }
      ]
    },
    {
      "cell_type": "code",
      "metadata": {
        "id": "8qh2V778EEfY"
      },
      "source": [
        "import numpy as np\n",
        "\n",
        "def get_veracity_scores_accuracy(title):\n",
        "  #calculate title_count on veracity\n",
        "  source_count = find_similar_articles(title)\n",
        "  model_accuracy_map = {\n",
        "      'Nearest Neighbors': 0.2022,\n",
        "      'Linear SVM': 0.2517,\n",
        "      'RBF SVM': 0.2711,\n",
        "      'Decision Tree': 0.2686,\n",
        "      'Random Forest': 0.2716,\n",
        "      'Neural Net': 0.2616,\n",
        "      'AdaBoost': 0.2547,\n",
        "      'Naive Bayes': 0.2517,\n",
        "      'QDA': 0.2517,\n",
        "  }\n",
        "  if(source_count > 3):\n",
        "    veracity = 1\n",
        "  else:\n",
        "    veracity = 0\n",
        "  return get_veracity(veracity, source_count), model_accuracy_map[names[0]]\n",
        "\n",
        "def get_source_count_and_veracity(title):\n",
        "#calculate title_count on veracity\n",
        "  source_count = self.find_similar_articles(title)\n",
        "  if(source_count > 3):\n",
        "    veracity = 1\n",
        "  else:\n",
        "    veracity = 0\n",
        "  return (source_count,veracity)\n",
        "\n",
        "def get_veracity(veracity, title_count):\n",
        "  df = pd.DataFrame(columns=['veracity', 'title_count', 'encoded_index'])\n",
        "  df.loc[0]=[veracity, title_count, np.random.randint(2, 6723)]\n",
        "  result = model.predict(df.to_numpy())\n",
        "  return result[0]\n",
        "\n",
        "def remove_unnecessary_noise(text_messages):\n",
        "  text_messages = re.sub(r'\\\\([a-z]|[A-Z]|[0-9])([a-z]|[A-Z]|[0-9])([a-z]|[A-Z]|[0-9])\\\\([a-z]|[A-Z]|[0-9])([a-z]|[A-Z]|[0-9])([a-z]|[A-Z]|[0-9])\\\\([a-z]|[A-Z]|[0-9])([a-z]|[A-Z]|[0-9])([a-z]|[A-Z]|[0-9])', ' ', text_messages)\n",
        "  text_messages = re.sub(r'\\\\([a-z]|[A-Z]|[0-9])([a-z]|[A-Z]|[0-9])([a-z]|[A-Z]|[0-9])\\\\([a-z]|[A-Z]|[0-9])([a-z]|[A-Z]|[0-9])([a-z]|[A-Z]|[0-9])', ' ', text_messages)\n",
        "  text_messages = re.sub(r'\\[[0-9]+\\]|\\[[a-z]+\\]|\\[[A-Z]+\\]|\\\\\\\\|\\\\r|\\\\t|\\\\n|\\\\', ' ', text_messages)\n",
        "\n",
        "  return text_messages\n",
        "\n",
        "def preproccess_text(text_messages):\n",
        "  # change words to lower case - Hello, HELLO, hello are all the same word\n",
        "  processed = text_messages.lower()\n",
        "\n",
        "  # Remove remove unnecessary noise\n",
        "  processed = re.sub(r'\\[[0-9]+\\]|\\[[a-z]+\\]|\\[[A-Z]+\\]|\\\\\\\\|\\\\r|\\\\t|\\\\n|\\\\', ' ', processed)\n",
        "\n",
        "  # Remove punctuation\n",
        "  processed = re.sub(r'[.,\\/#!%\\^&\\*;\\[\\]:|+{}=\\-\\'\"_”“`~(’)?]', ' ', processed)\n",
        "\n",
        "  # Replace whitespace between terms with a single space\n",
        "  processed = re.sub(r'\\s+', ' ', processed)\n",
        "\n",
        "  # Remove leading and trailing whitespace\n",
        "  processed = re.sub(r'^\\s+|\\s+?$', '', processed)\n",
        "  return processed\n",
        "\n",
        "def news_title_tokenization(message):\n",
        "  stopwords = nltk.corpus.stopwords.words('english')\n",
        "  tokenized_news_title = []\n",
        "  ps = PorterStemmer()\n",
        "  for word in word_tokenize(message):\n",
        "      if word not in stopwords:\n",
        "          tokenized_news_title.append(ps.stem(word))\n",
        "\n",
        "  return tokenized_news_title\n",
        "\n",
        "def find_similar_articles(news):\n",
        "  \n",
        "  news_title_tokenized = ''\n",
        "  \n",
        "  if(re.match(r'^https?:\\/\\/(www\\.)?[-a-zA-Z0-9@:%._\\+~#=]{2,256}\\.[a-z]{2,6}\\b([-a-zA-Z0-9@:%_\\+.~#?&//=]*)$', news)):\n",
        "      news_article = Article(news)\n",
        "      news_article.download()\n",
        "      news_article.parse()\n",
        "      news_title_tokenized = news_title_tokenization(preproccess_text(news_article.title))\n",
        "  else:\n",
        "      news_title_tokenized = news_title_tokenization(preproccess_text(news))\n",
        "\n",
        "  search_title = ''\n",
        "  for word in news_title_tokenized:\n",
        "    search_title = search_title + word + ' '\n",
        "\n",
        "  #print(search_title)\n",
        "  count = 0\n",
        "  post = 0\n",
        "  post_true = False\n",
        "  non_credit_sources = ['facebook', 'twitter', 'youtube', 'tiktok']\n",
        "  for j in search(search_title, num=1, stop=10, pause=.30): \n",
        "    #print(j)\n",
        "    post_true = False\n",
        "    for k in non_credit_sources:\n",
        "      if k in j:\n",
        "        post+= 1\n",
        "        post_true = True\n",
        "    if(post_true == False):\n",
        "      count+= 1\n",
        "  #print(\"Count is\", count, \"and Post is\", post)  \n",
        "  \n",
        "  return count"
      ],
      "execution_count": null,
      "outputs": []
    },
    {
      "cell_type": "code",
      "metadata": {
        "colab": {
          "base_uri": "https://localhost:8080/"
        },
        "id": "HPr7yF_XJqVY",
        "outputId": "9614bbbb-6b22-4ced-f661-d8a3b9bc3dec"
      },
      "source": [
        "get_veracity_scores_accuracy(\"Elections are over\")"
      ],
      "execution_count": null,
      "outputs": [
        {
          "output_type": "execute_result",
          "data": {
            "text/plain": [
              "(3, 0.2716)"
            ]
          },
          "metadata": {},
          "execution_count": 5
        }
      ]
    },
    {
      "cell_type": "markdown",
      "metadata": {
        "id": "OttBdxs1rb4m"
      },
      "source": [
        "# **Team Member- Deesha Desai**\n",
        "### **Sentiment Factor**\n",
        "Sentiment Analysis (SA) is the branch of Natural Language Processing (NLP) in charge of the design and implementation of models, methods, and techniques to determine whether a text deals with objective or subjective information and, in the latter case, to determine if such information is expressed in a positive, neutral, or negative way as well as if it is expressed in a strong or weak way\n",
        "It is a very important factor in determining if a news or statement is fake because sentiment determines the opinion of the user and is a good approximator of fakenews. So, I have tried to model this factor to check the credibility of news.\n",
        "\n",
        "\n",
        "### **MicroFactors**\n",
        "\n",
        "\n",
        "**POS Tags:**\n",
        "\n",
        "Parts-of-Speech (PoS) tags: are the labels or annotations that identify the word’s function in a given language. In general, words can be categorized into several parts of speech categories\n",
        "As a part of this microfactors, generated noun_counts, verb_counts, adverb_counts, adjective_counts, possessive_ending_counts\n",
        "\n",
        "**Sentiment Polarity:** \n",
        "\n",
        "Used SentimentIntensityAnalyzer from nltk Vader, to find polarity scores. It Gives a sentiment intensity score to sentences.\n",
        "\n",
        "**TFIDF:**   \n",
        "Used TFIDF Vectorizer to convert a collection of raw documents to a matrix of TF-IDF features. \n",
        "\n",
        "\n",
        "### **Datasets**:   \n",
        "Politifact Dataset-- Web scraping\n",
        "\n",
        "Liar Liar Dataset\n",
        "\n",
        "Truth or Fiction-- Stream Data\n",
        "\n",
        "\n",
        "\n",
        "### **Model Training:**    \n",
        "Trained 9 different models (\"Nearest Neighbors\", \"Linear SVM\", \"RBF SVM\", \"Decision Tree\", \"Random Forest\", \"Neural Net\", \"AdaBoost\", \"Naive Bayes\", \"QDA\") to predict fakeness of statement between 1-6 using all the microfactors above after data amalgamation\n",
        "\n",
        "![image.png](data:image/png;base64,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)\n",
        "\n",
        "\n",
        "\n",
        "\n",
        "\n"
      ]
    },
    {
      "cell_type": "markdown",
      "metadata": {
        "id": "2-3db1f52KY6"
      },
      "source": [
        "Pickled Neural Net classifier Model as it as the highest accuracy\n",
        "\n",
        "[Sentiment factor-Individual](https://colab.research.google.com/drive/1GXJYUaoCmQsyFhdtgsrJFAjLRoi9Pvzr?usp=sharing)"
      ]
    },
    {
      "cell_type": "code",
      "metadata": {
        "id": "_D6ZgVGPqpCa",
        "colab": {
          "base_uri": "https://localhost:8080/"
        },
        "outputId": "5348ef77-acb8-4ae5-b498-eccc848ab046"
      },
      "source": [
        "!pip install nltk"
      ],
      "execution_count": null,
      "outputs": [
        {
          "output_type": "stream",
          "name": "stdout",
          "text": [
            "Requirement already satisfied: nltk in /usr/local/lib/python3.7/dist-packages (3.2.5)\n",
            "Requirement already satisfied: six in /usr/local/lib/python3.7/dist-packages (from nltk) (1.15.0)\n"
          ]
        }
      ]
    },
    {
      "cell_type": "code",
      "metadata": {
        "colab": {
          "base_uri": "https://localhost:8080/"
        },
        "id": "kcb8sPZgRW0v",
        "outputId": "d196f587-06d0-4d0b-ac02-f7d3c48cea4d"
      },
      "source": [
        "from google.colab import drive\n",
        "drive.mount('/content/drive')"
      ],
      "execution_count": null,
      "outputs": [
        {
          "output_type": "stream",
          "name": "stdout",
          "text": [
            "Drive already mounted at /content/drive; to attempt to forcibly remount, call drive.mount(\"/content/drive\", force_remount=True).\n"
          ]
        }
      ]
    },
    {
      "cell_type": "code",
      "metadata": {
        "id": "fPCcADGlqwwU"
      },
      "source": [
        "import pickle\n",
        "import re\n",
        "from nltk.tokenize import word_tokenize"
      ],
      "execution_count": null,
      "outputs": []
    },
    {
      "cell_type": "code",
      "metadata": {
        "id": "x54qWxy_qz8d",
        "colab": {
          "base_uri": "https://localhost:8080/"
        },
        "outputId": "d00cf784-a6a7-47a0-d925-b41a5090c526"
      },
      "source": [
        "import nltk\n",
        "from collections import Counter\n",
        "nltk.download('punkt')\n",
        "nltk.download('averaged_perceptron_tagger')\n",
        "nltk.download('vader')\n",
        "\n",
        "from nltk.corpus import stopwords\n",
        "import nltk\n",
        "nltk.download('stopwords')\n",
        "from nltk.stem.snowball import SnowballStemmer\n",
        "from nltk.stem import WordNetLemmatizer\n",
        "nltk.download('wordnet')\n",
        "from sklearn.feature_extraction.text import TfidfVectorizer\n",
        "\n",
        "from nltk.sentiment.vader import SentimentIntensityAnalyzer\n",
        "nltk.download('vader_lexicon')\n",
        "import scipy"
      ],
      "execution_count": null,
      "outputs": [
        {
          "output_type": "stream",
          "name": "stdout",
          "text": [
            "[nltk_data] Downloading package punkt to /root/nltk_data...\n",
            "[nltk_data]   Package punkt is already up-to-date!\n",
            "[nltk_data] Downloading package averaged_perceptron_tagger to\n",
            "[nltk_data]     /root/nltk_data...\n",
            "[nltk_data]   Package averaged_perceptron_tagger is already up-to-\n",
            "[nltk_data]       date!\n",
            "[nltk_data] Error loading vader: Package 'vader' not found in index\n",
            "[nltk_data] Downloading package stopwords to /root/nltk_data...\n",
            "[nltk_data]   Package stopwords is already up-to-date!\n",
            "[nltk_data] Downloading package wordnet to /root/nltk_data...\n",
            "[nltk_data]   Unzipping corpora/wordnet.zip.\n",
            "[nltk_data] Downloading package vader_lexicon to /root/nltk_data...\n"
          ]
        },
        {
          "output_type": "stream",
          "name": "stderr",
          "text": [
            "/usr/local/lib/python3.7/dist-packages/nltk/twitter/__init__.py:20: UserWarning: The twython library has not been installed. Some functionality from the twitter package will not be available.\n",
            "  warnings.warn(\"The twython library has not been installed. \"\n"
          ]
        }
      ]
    },
    {
      "cell_type": "markdown",
      "metadata": {
        "id": "sJzvQQ_DrJ51"
      },
      "source": [
        "### **Downloading pickled models of TFIDF Vectorizer & Neural Net**"
      ]
    },
    {
      "cell_type": "code",
      "metadata": {
        "colab": {
          "base_uri": "https://localhost:8080/"
        },
        "id": "9KdYIs5kq0II",
        "outputId": "d37b717e-828f-4a65-b8ae-bc51d6fb4226"
      },
      "source": [
        "!gdown --id 1Yuxk8aC7PTQJwJz8mw1Xn6uPyEU_vhm6\n",
        "!gdown --id 1gabfL1LLI-iOtc9f5JI5EUyqQuHPHtku\n"
      ],
      "execution_count": null,
      "outputs": [
        {
          "output_type": "stream",
          "name": "stdout",
          "text": [
            "Downloading...\n",
            "From: https://drive.google.com/uc?id=1Yuxk8aC7PTQJwJz8mw1Xn6uPyEU_vhm6\n",
            "To: /content/Neural Net\n",
            "100% 766k/766k [00:00<00:00, 50.9MB/s]\n",
            "Downloading...\n",
            "From: https://drive.google.com/uc?id=1gabfL1LLI-iOtc9f5JI5EUyqQuHPHtku\n",
            "To: /content/tfidf\n",
            "100% 160k/160k [00:00<00:00, 57.0MB/s]\n"
          ]
        }
      ]
    },
    {
      "cell_type": "markdown",
      "metadata": {
        "id": "ZUx5A2vxLHfu"
      },
      "source": [
        "### **Generating POS Tags**"
      ]
    },
    {
      "cell_type": "code",
      "metadata": {
        "id": "JfpbnYF8rnxe"
      },
      "source": [
        "def get_POS_tags(statement):\n",
        "  tokens = nltk.word_tokenize(statement)\n",
        "  text = nltk.Text(tokens)\n",
        "  tags = nltk.pos_tag(text)\n",
        "  counts = Counter(tag for word,tag in tags)\n",
        "  noun_counts=counts['NN']+counts['NNS']+counts['NNP']+counts['NNPS']\n",
        "  verb_counts=counts['VB']+counts['VBD']+counts['VBG']+counts['VBN']+counts['VBP']+counts['VBG']\n",
        "  adverbverb_counts=counts['VB']+counts['VBD']+counts['VBG']+counts['VBN']+counts['VBP']+counts['VBG']\n",
        "  adjective_counts=counts['JJ']+counts['JJR']+counts['JJS']\n",
        "  possessive_ending_counts=counts['POS']\n",
        "  return noun_counts,verb_counts,adverbverb_counts,adjective_counts,possessive_ending_counts"
      ],
      "execution_count": null,
      "outputs": []
    },
    {
      "cell_type": "markdown",
      "metadata": {
        "id": "wl_1owXqLgAX"
      },
      "source": [
        "### **Generating sentiment score**\n",
        "\n",
        "Using Neural Net pickled model & tfidf vectorizer to predict sentiment score"
      ]
    },
    {
      "cell_type": "code",
      "metadata": {
        "id": "W3Wppp6zq7uo"
      },
      "source": [
        "def get_sentiment_score(statement):\n",
        "  model=pickle.load(open('/content/Neural Net', 'rb'))\n",
        "  tfidf_vect=pickle.load(open('/content/tfidf', 'rb'))\n",
        "  stop_words = set(stopwords.words('english'))\n",
        "  stemmer = SnowballStemmer(\"english\")\n",
        "  lem=WordNetLemmatizer()\n",
        "  analyzer = SentimentIntensityAnalyzer()\n",
        "\n",
        "  p_statement= re.sub(r\"\\W\", \" \",str(statement))\n",
        "  p_statement=re.sub(r'[,\\.!?]', \" \",str(p_statement))\n",
        "  p_statement=re.sub(r\" \\d+\", \" \",str(p_statement))\n",
        "  p_statement=word_tokenize(p_statement.lower())\n",
        "  p_statement=' '.join(p_statement)\n",
        "  p_statement=' '.join([word for word in p_statement.split() if word not in stop_words])\n",
        "  p_statement=' '.join([lem.lemmatize(word) for word in p_statement.split()])\n",
        "  p_statement=' '.join([stemmer.stem(word) for word in p_statement.split()])\n",
        "  noun_counts,verb_counts,adverbverb_counts,adjective_counts,possessive_ending_counts=get_POS_tags(p_statement)\n",
        "\n",
        "  compound= analyzer.polarity_scores(p_statement)['compound']\n",
        "  neg=  analyzer.polarity_scores(p_statement)['neg'] \n",
        "  neu = analyzer.polarity_scores(p_statement)['neu']\n",
        "  pos = analyzer.polarity_scores(p_statement)['pos']\n",
        "\n",
        "  X=[noun_counts,verb_counts,adverbverb_counts,adjective_counts,possessive_ending_counts,compound,neg,neu,pos]\n",
        "  vector=tfidf_vect.transform([p_statement])\n",
        "\n",
        "  final_input=scipy.sparse.hstack((vector,X),format='csr')\n",
        "  \n",
        "  prediction=model.predict(final_input)\n",
        "  prediction_probability=model.predict_proba(final_input)[:,1]\n",
        "  return prediction_probability.item(0)"
      ],
      "execution_count": null,
      "outputs": []
    },
    {
      "cell_type": "code",
      "metadata": {
        "id": "Qv6oyLJTq9r7",
        "colab": {
          "base_uri": "https://localhost:8080/"
        },
        "outputId": "6f65370f-437e-48ee-a949-3fb99d5453a3"
      },
      "source": [
        "get_sentiment_score('sad')"
      ],
      "execution_count": null,
      "outputs": [
        {
          "output_type": "execute_result",
          "data": {
            "text/plain": [
              "0.3001182723057658"
            ]
          },
          "metadata": {},
          "execution_count": 13
        }
      ]
    },
    {
      "cell_type": "markdown",
      "metadata": {
        "id": "MnEn5tcAwF9S"
      },
      "source": [
        "# **Team member - Preeti Parihar**\n",
        "### **Topic - Speech Tone Detection**\n",
        "\n",
        "#### **Factor - Toxicity**\n",
        "Online hate speech has been around since the dawn of the internet, but social media has played a key role in its development. Hate speech is defined as “public communication that expresses hatred or advocates violence toward a person or group based on something such as race, religion, sex, or sexual orientation,” according to the Cambridge Dictionary.\n",
        "#### **Micro Factor**\n",
        "  * Severe Toxic\n",
        "  * Obscene\n",
        "  * Threat\n",
        "  * Insult\n",
        "  * Identity attack\n",
        "  * Hate Speech\n",
        "  * Polarity\n",
        "  * Readability\n",
        "  * Offensive language\n",
        "  * Target\n",
        "\n",
        "### **Datasets**\n",
        "  * Jigsaw Dataset\n",
        "  * Twitter Hate Speech\n",
        "  * Stream Data - https://newsapi.org\n",
        "  * Politi Fact - For Inference\n",
        "\n",
        "### **Models Generated For Following Feature Individually**\n",
        "  * Obscene\n",
        "  * Threat\n",
        "  * Insult\n",
        "  * Identity attack\n",
        "  * Hate Speech\n",
        "  * Polarity\n",
        "  * Readability\n",
        "  * Target\n",
        "\n",
        "### **List of ML operations**\n",
        "  * **Get Top K Predictions**\n",
        "  * **Use TFIDF Vectorizer**\n",
        "  * **Generated Models Using Muller Loop**\n",
        "    Following list of classifiers were used to train the model and selected best model.\n",
        "    * Logistic Regression\n",
        "    * Stochastic Gradient Descent (SGD) Classifier\n",
        "    * XGB Classifier\n",
        "    * Random Forest Classifier\n",
        "  * **Load model and transformer**\n",
        "  Load model and transformer from google drive\n",
        "  * **Save Model**\n",
        "  Save model and transformer to google drive\n",
        "  * **Infer and Load**\n",
        "  Run inference on unseen data after loading model and transformer\n",
        "\n",
        "### **Combined All ML Models**\n",
        "  * Using polynomial equations (weighted model scores)\n",
        "\n",
        "### **Results**\n",
        "  * Result printed using Truth-O-Meter for Toxicity\n",
        "\n",
        "### **Pipeline For Inference** - running 20 inference on live data and on politifact data\n",
        "\n",
        "### **Accuracy of Individual Models** - Best Classifier selected using muller loop\n",
        "\n",
        "---\n",
        "| # | Feature Name | Classifier             | Accuracy |\n",
        "|---|--------------|------------------------|----------|\n",
        "| 1 | Target       | LogisticRegression     | 0.84     |\n",
        "|   |              | SGDClassifier          | 0.9      |\n",
        "|   |              | XGBClassifier          | 0.91     |\n",
        "|   |              | RandomForestClassifier | 0.91     |\n",
        "| 2 | Threat       | LogisticRegression     | 0.99     |\n",
        "|   |              | SGDClassifier          | 0.99     |\n",
        "|   |              | XGBClassifier          | 0.96     |\n",
        "|   |              | RandomForestClassifier | 0.91     |\n",
        "| 3 | Obscene      | LogisticRegression     | 0.84     |\n",
        "|   |              | SGDClassifier          | 0.98     |\n",
        "|   |              | XGBClassifier          | 0.90     |\n",
        "|   |              | RandomForestClassifier | 0.88     |\n",
        "| 4 | Identity     | LogisticRegression     | 0.84     |\n",
        "|   |              | SGDClassifier          | 0.92     |\n",
        "|   |              | XGBClassifier          | 0.78     |\n",
        "|   |              | RandomForestClassifier | 0.83     |\n",
        "| 5 | Redability   | LogisticRegression     | 0.16     |\n",
        "|   |              | SGDClassifier          | 0.15     |\n",
        "|   |              | XGBClassifier          | 0.20     |\n",
        "|   |              | RandomForestClassifier | 0.18     |\n",
        "| 6 | Polarity     | LogisticRegression     | 0.84     |\n",
        "|   |              | SGDClassifier          | 0.83     |\n",
        "|   |              | XGBClassifier          | 0.85     |\n",
        "|   |              | RandomForestClassifier | 0.86     |\n",
        "| 7 | HateSpeech   | LogisticRegression     | 0.87     |\n",
        "|   |              | SGDClassifier          | 0.79     |\n",
        "|   |              | XGBClassifier          | 0.88     |\n",
        "|   |              | RandomForestClassifier | 0.88     |\n",
        "\n",
        "#*True-o-meter For Toxicity*\n",
        "    1 - No Toxicity\n",
        "\n",
        "    2 - Barely Toxic\n",
        "\n",
        "    3 - Low Toxic\n",
        "\n",
        "    4 - Half Toxic\n",
        "\n",
        "    5 - Moderately Toxic\n",
        "\n",
        "    6 - Severely Toxic\n",
        "\n",
        "\n",
        "### **Individual work colab link** - https://colab.research.google.com/drive/1Uu94QSWss36ydVOHq6S5a_o_SXLWO30a?usp=sharing"
      ]
    },
    {
      "cell_type": "markdown",
      "metadata": {
        "id": "1c-BH_Kd98F5"
      },
      "source": [
        "The ARI assesses the U.S. grade level required to read a piece of text.\n",
        "\n",
        "https://readable.com/readability/automated-readability-index/\n"
      ]
    },
    {
      "cell_type": "code",
      "metadata": {
        "id": "1_vVDI-pv9gT"
      },
      "source": [
        "def readability_grade(score):\n",
        "    if score <= 6:\n",
        "        return \"Kindergarten\"\n",
        "    elif score <= 7:\n",
        "        return \"First Grade\"\n",
        "    elif score <= 8:\n",
        "        return \"Second Grade\"\n",
        "    elif score <= 9:\n",
        "        return \"Third Grade\"\n",
        "    elif score <= 10:\n",
        "        return \"Fourth Grade\"\n",
        "    elif score <= 11:\n",
        "        return \"Fifth Grade\"\n",
        "    elif score <= 12:\n",
        "        return \"Sixth Grade\"\n",
        "    elif score <= 13:\n",
        "        return \"Seventh Grade\"\n",
        "    elif score <= 14:\n",
        "        return \"Eight Grade\"\n",
        "    elif score <= 15:\n",
        "        return \"Ninth Grade\"\n",
        "    elif score <= 15:\n",
        "        return \"Ninth Grade\"\n",
        "    elif score <= 16:\n",
        "        return \"Tenth Grade\"\n",
        "    elif score <= 17:\n",
        "        return \"Eleventh Grade\"\n",
        "    elif score <= 17:\n",
        "        return \"Twelfth Grade\"\n",
        "    elif score >= 18:\n",
        "        return \"College Grade\"\n",
        "\n",
        "def get_top_k_predictions(model, X_test, k):\n",
        "    import numpy as np\n",
        "    # get probabilities instead of predicted labels, since we want to collect top 3\n",
        "    probs = model.predict_proba(X_test)\n",
        "    top_k_probs = probs[0][:k]\n",
        "    # print(top_k_probs)\n",
        "    # GET TOP K PREDICTIONS BY PROB - note these are just index\n",
        "    best_n = np.argsort(probs, axis=1)[:,-k:]\n",
        "    # print(best_n)\n",
        "    \n",
        "    # GET CATEGORY OF PREDICTIONS\n",
        "    preds=[[(model.classes_[predicted_cat], probs) for predicted_cat, probs in zip(prediction, top_k_probs)] for prediction in best_n]\n",
        "    \n",
        "    preds=[ item[::-1] for item in preds]\n",
        "    \n",
        "    return preds\n",
        "\n",
        "\n",
        "def load_model_transformer(model_name, transformer_name):\n",
        "  import pickle\n",
        "  try:\n",
        "    model_path = \"/content/drive/MyDrive/The-Elite/Semester_Project/Preeti/models/\" + model_name\n",
        "    model_file = open(model_path, \"rb\")\n",
        "    model = pickle.load(model_file)\n",
        "\n",
        "    transformer_path = \"/content/drive/MyDrive/The-Elite/Semester_Project/Preeti/models/\" + transformer_name\n",
        "    transformer_file = open(transformer_path, \"rb\")\n",
        "    transformer = pickle.load(transformer_file)\n",
        "    return model, transformer, None\n",
        "\n",
        "  except Exception as e:\n",
        "    return None, None, e\n",
        "\n",
        "def load_and_infer(model_name, transformer_name, text, feature, top_k=2):\n",
        "  model, transformer, err = load_model_transformer(model_name, transformer_name)\n",
        "  if err:\n",
        "    print(str(err))\n",
        "    return\n",
        "\n",
        "  X_test = transformer.transform(text)\n",
        "  preds = get_top_k_predictions(model, X_test, top_k)\n",
        "\n",
        "  if feature.lower() == \"readability\":\n",
        "    grades = []\n",
        "    for c in preds[0]:\n",
        "      grades.append((readability_grade(c[0]), c[1]))\n",
        "\n",
        "    grades = sorted(grades, key=lambda x: x[1], reverse=True)      \n",
        "    return grades\n",
        "  elif feature.lower() == \"polarity\":\n",
        "    sentiments = []\n",
        "    for c in preds[0]:\n",
        "      if c[0] == 0:\n",
        "        sentiments.append((\"neutral\", c[1]))\n",
        "      elif c[0] == 1:\n",
        "        sentiments.append((\"positive\", c[1]))\n",
        "      elif c[0] == -1:\n",
        "        sentiments.append((\"negative\", c[1]))\n",
        "    sentiments = sorted(sentiments, key=lambda x: x[1], reverse=True)\n",
        "    return sentiments  \n",
        "  elif feature.lower() == \"hate-speech\":\n",
        "    hate_speech = []\n",
        "    for c in preds[0]:\n",
        "      if c[0] == 0:\n",
        "        hate_speech.append((\"neither\", c[1]))\n",
        "      elif c[0] == 1:\n",
        "        hate_speech.append((\"offensive language\", c[1]))\n",
        "      elif c[0] == 2:\n",
        "        hate_speech.append((\"hate speech\", c[1]))\n",
        "    hate_speech = sorted(hate_speech, key=lambda x: x[1], reverse=True)        \n",
        "    return hate_speech  \n",
        "  elif feature.lower() == \"toxicity\":\n",
        "    toxicity = []\n",
        "    for c in preds[0]:\n",
        "      if c[0] == 0:\n",
        "        toxicity.append((\"not toxic \", c[1]))\n",
        "      elif c[0] == 1:\n",
        "        toxicity.append((\"toxic\", c[1]))\n",
        "    toxicity = sorted(toxicity, key=lambda x: x[1], reverse=True)        \n",
        "    return toxicity  \n",
        "  elif feature.lower() == \"threat\":\n",
        "    threat = []\n",
        "    for c in preds[0]:\n",
        "      if c[0] == 0:\n",
        "        threat.append((\"no threat \", c[1]))\n",
        "      elif c[0] == 1:\n",
        "        threat.append((\"threat\", c[1]))\n",
        "    threat = sorted(threat, key=lambda x: x[1], reverse=True)        \n",
        "    return threat  \n",
        "  elif feature.lower() == \"insult\":\n",
        "    insult = []\n",
        "    for c in preds[0]:\n",
        "      if c[0] == 0:\n",
        "        insult.append((\"no insult \", c[1]))\n",
        "      elif c[0] == 1:\n",
        "        insult.append((\"insult\", c[1]))\n",
        "    insult = sorted(insult, key=lambda x: x[1], reverse=True)        \n",
        "    return insult  \n",
        "  elif feature.lower() == \"obscene\":\n",
        "    obscene = []\n",
        "    for c in preds[0]:\n",
        "      if c[0] == 0:\n",
        "        obscene.append((\"not obscene \", c[1]))\n",
        "      elif c[0] == 1:\n",
        "        obscene.append((\"obscene\", c[1]))\n",
        "    obscene = sorted(obscene, key=lambda x: x[1], reverse=True)        \n",
        "    return obscene  \n",
        "  elif feature.lower() == \"identity_attack\":\n",
        "    identity_attack = []\n",
        "    for c in preds[0]:\n",
        "      if c[0] == 0:\n",
        "        identity_attack.append((\"no identity attack \", c[1]))\n",
        "      elif c[0] == 1:\n",
        "        identity_attack.append((\"identity attack\", c[1]))\n",
        "    identity_attack = sorted(identity_attack, key=lambda x: x[1], reverse=True)        \n",
        "    return identity_attack  \n",
        "\n",
        "  else:\n",
        "    return \"invalid feature name\""
      ],
      "execution_count": null,
      "outputs": []
    },
    {
      "cell_type": "markdown",
      "metadata": {
        "id": "mrUlziej-oUE"
      },
      "source": [
        "## **Combine All Models Using Polynomial Equation (weighted model score)**"
      ]
    },
    {
      "cell_type": "code",
      "metadata": {
        "id": "JQgPUlGAxVHl"
      },
      "source": [
        "def combined_models(text):\n",
        "  all_acc_score = [0.9125, 0.9975, 0.985, 0.9875, 0.18878, 0.86930, 0.88221]\n",
        "  model_acc = sum(all_acc_score)/len(all_acc_score)\n",
        "\n",
        "  all_acc_score.sort(reverse=True)\n",
        "  weights = [float(i)/sum(all_acc_score) for i in all_acc_score]\n",
        "\n",
        "  prob_toxicity = weights[0] * load_and_infer(\"model_toxicity.model\", \"toxicity_transformer.pkl\", [text], \"toxicity\", 1)[0][1]\n",
        "  prob_threat = weights[1] * load_and_infer(\"model_threat.model\", \"threat_transformer.pkl\", [text], \"threat\", 1)[0][1]\n",
        "  prob_obscene = weights[2] * load_and_infer(\"model_obscene.model\", \"obscene_transformer.pkl\", [text], \"obscene\", 1)[0][1]\n",
        "  prob_identity_attack = weights[3] * load_and_infer(\"model_identity_attack.model\", \"identity_attack_transformer.pkl\", [text], \"identity_attack\", 1)[0][1]\n",
        "  prob_readability = weights[4] * load_and_infer(\"model_readability.model\", \"readability_transformer.pkl\", [text], \"readability\", 1)[0][1]\n",
        "  prob_polarity = weights[5] *  load_and_infer(\"model_polarity.model\", \"polarity_transformer.pkl\", [text], \"polarity\", 1)[0][1]\n",
        "  prob_hate_speech = weights[6] * load_and_infer(\"model_hate_speech.model\", \"hate_speech_transformer.pkl\", [text], \"hate-speech\", 1)[0][1]\n",
        "\n",
        "  sumW = prob_toxicity + prob_threat + prob_obscene + prob_identity_attack + prob_readability + prob_polarity + prob_hate_speech\n",
        "  if sumW <= 0.10:\n",
        "    return \"No Toxic: \" + str(round(sumW, 2)), model_acc, 1 \n",
        "  elif sumW > 0.10 and sumW <= 0.20:\n",
        "    return \"Barely Toxic: \" + str(round(sumW, 2)), model_acc, 2\n",
        "  elif sumW > 0.20 and sumW <= 0.30:\n",
        "    return \"Low Toxic: \" + str(round(sumW, 2)), model_acc, 3\n",
        "  elif sumW > 0.30 and sumW <= 0.50:\n",
        "    return \"Half Toxic: \" + str(round(sumW, 2)), model_acc, 4\n",
        "  elif sumW > 0.50 and sumW <= 0.70:\n",
        "    return \"Moderately Toxic: \" + str(round(sumW, 2)), model_acc, 5\n",
        "  elif sumW > 0.70:\n",
        "    return \"Severely Toxic: \" + str(round(sumW, 2)), model_acc, 6"
      ],
      "execution_count": null,
      "outputs": []
    },
    {
      "cell_type": "markdown",
      "metadata": {
        "id": "VrOpyy47sp4C"
      },
      "source": [
        "###**Result For Toxicity Using Truth-O-Meter**"
      ]
    },
    {
      "cell_type": "code",
      "metadata": {
        "colab": {
          "base_uri": "https://localhost:8080/"
        },
        "id": "NsBdvqZUxljo",
        "outputId": "b6e77b24-ca4a-4f82-b91e-8f7ab1666323"
      },
      "source": [
        "result = combined_models(\"Don't you dre to talk to me like that, I will kill you\")\n",
        "print(result)"
      ],
      "execution_count": null,
      "outputs": [
        {
          "output_type": "stream",
          "name": "stdout",
          "text": [
            "('Moderately Toxic: 0.68', 0.8318271428571429, 5)\n"
          ]
        }
      ]
    },
    {
      "cell_type": "markdown",
      "metadata": {
        "id": "Iwk1Vm1p-fBW"
      },
      "source": [
        "## **Run Inference on all combined ML models from Politi Fact scrapped data**"
      ]
    },
    {
      "cell_type": "code",
      "metadata": {
        "id": "lsCeM1Z_xpEw",
        "colab": {
          "base_uri": "https://localhost:8080/"
        },
        "outputId": "ba20da2c-f2b1-4b7d-f02b-f002bba553fb"
      },
      "source": [
        "import pandas as pd\n",
        "liar_df = pd.read_csv(\"/content/drive/MyDrive/The-Elite/Semester_Project/Preeti/datasets/politifact.csv\")\n",
        "\n",
        "\n",
        "for id, stmt in enumerate(liar_df.statement):\n",
        "  out = combined_models(stmt)\n",
        "  print(out)\n",
        "  if id > 20:\n",
        "    break"
      ],
      "execution_count": null,
      "outputs": [
        {
          "output_type": "stream",
          "name": "stdout",
          "text": [
            "('Severely Toxic: 0.72', 0.8318271428571429, 6)\n",
            "('Moderately Toxic: 0.67', 0.8318271428571429, 5)\n",
            "('Moderately Toxic: 0.7', 0.8318271428571429, 5)\n",
            "('Moderately Toxic: 0.7', 0.8318271428571429, 5)\n",
            "('Severely Toxic: 0.71', 0.8318271428571429, 6)\n",
            "('Moderately Toxic: 0.69', 0.8318271428571429, 5)\n",
            "('Moderately Toxic: 0.7', 0.8318271428571429, 5)\n",
            "('Moderately Toxic: 0.68', 0.8318271428571429, 5)\n",
            "('Moderately Toxic: 0.68', 0.8318271428571429, 5)\n",
            "('Severely Toxic: 0.71', 0.8318271428571429, 6)\n",
            "('Moderately Toxic: 0.69', 0.8318271428571429, 5)\n",
            "('Moderately Toxic: 0.69', 0.8318271428571429, 5)\n",
            "('Moderately Toxic: 0.66', 0.8318271428571429, 5)\n",
            "('Moderately Toxic: 0.69', 0.8318271428571429, 5)\n",
            "('Severely Toxic: 0.7', 0.8318271428571429, 6)\n",
            "('Severely Toxic: 0.7', 0.8318271428571429, 6)\n",
            "('Moderately Toxic: 0.68', 0.8318271428571429, 5)\n",
            "('Moderately Toxic: 0.68', 0.8318271428571429, 5)\n",
            "('Severely Toxic: 0.71', 0.8318271428571429, 6)\n",
            "('Moderately Toxic: 0.64', 0.8318271428571429, 5)\n",
            "('Moderately Toxic: 0.67', 0.8318271428571429, 5)\n",
            "('Moderately Toxic: 0.67', 0.8318271428571429, 5)\n"
          ]
        }
      ]
    },
    {
      "cell_type": "markdown",
      "metadata": {
        "id": "eXKbS-ej-JCa"
      },
      "source": [
        "### **Read live NEWS articles**"
      ]
    },
    {
      "cell_type": "code",
      "metadata": {
        "id": "rlVHvPyY30my"
      },
      "source": [
        "ARTICLE_COUNT = 20\n",
        "def get_news_articles():\n",
        "    API_KEY = \"f682b24e753f472ea186141ff4f68328\"\n",
        "    url = \"https://newsapi.org/v2/top-headlines?country=us&category=business&apiKey=\" + API_KEY\n",
        "    resp = requests.get(url)\n",
        "    if resp and resp.status_code == 200:\n",
        "        \n",
        "        return resp.json()[\"articles\"][:ARTICLE_COUNT]\n",
        "    return None"
      ],
      "execution_count": null,
      "outputs": []
    },
    {
      "cell_type": "code",
      "metadata": {
        "id": "-0K8zaQV6zn5",
        "colab": {
          "base_uri": "https://localhost:8080/"
        },
        "outputId": "50ea5502-3181-4363-b3c3-0b331f0f1e1c"
      },
      "source": [
        "import nltk\n",
        "nltk.download('punkt')"
      ],
      "execution_count": null,
      "outputs": [
        {
          "output_type": "stream",
          "name": "stdout",
          "text": [
            "[nltk_data] Downloading package punkt to /root/nltk_data...\n",
            "[nltk_data]   Package punkt is already up-to-date!\n"
          ]
        },
        {
          "output_type": "execute_result",
          "data": {
            "text/plain": [
              "True"
            ]
          },
          "metadata": {},
          "execution_count": 19
        }
      ]
    },
    {
      "cell_type": "markdown",
      "metadata": {
        "id": "LsdJlsT_-QqP"
      },
      "source": [
        "### **Convert HTML to text and Tokenization**"
      ]
    },
    {
      "cell_type": "code",
      "metadata": {
        "id": "KaBwYQVN6bfq"
      },
      "source": [
        "def html_to_text(url):\n",
        "  from bs4 import BeautifulSoup\n",
        "  from bs4.element import Comment\n",
        "  import urllib.request\n",
        "\n",
        "  def tag_visible(element):\n",
        "      if element.parent.name in ['style', 'script', 'head', 'title', 'meta', '[document]']:\n",
        "          return False\n",
        "      if isinstance(element, Comment):\n",
        "          return False\n",
        "      return True\n",
        "\n",
        "\n",
        "  def text_from_html(body):\n",
        "      soup = BeautifulSoup(body, 'html.parser')\n",
        "      texts = soup.findAll(text=True)\n",
        "      visible_texts = filter(tag_visible, texts)  \n",
        "      return u\" \".join(t.strip() for t in visible_texts)\n",
        "\n",
        "\n",
        "  html = urllib.request.urlopen(url).read()\n",
        "  page_text = text_from_html(html)\n",
        "  my_list = nltk.tokenize.sent_tokenize(page_text) #Split into list of sentences.\n",
        "  content = \"\\n\".join(my_list)\n",
        "  return content"
      ],
      "execution_count": null,
      "outputs": []
    },
    {
      "cell_type": "markdown",
      "metadata": {
        "id": "rLCO2-Fk-SKS"
      },
      "source": [
        "## **Run Inference on all combined ML models from live streamed data**"
      ]
    },
    {
      "cell_type": "code",
      "metadata": {
        "id": "myzxT0kv6elB"
      },
      "source": [
        "import requests\n",
        "def InferOnStreamingData():\n",
        "  news_articles = get_news_articles()\n",
        "  for id, article in enumerate(news_articles):\n",
        "      try:\n",
        "          url = article[\"url\"]\n",
        "          print(\"Reading article:\", str(id), \" at URL: \", url)\n",
        "          content = html_to_text(url)\n",
        "          result = combined_models(content)                    \n",
        "          print(\"Result: \", result)\n",
        "      except Exception as e:\n",
        "          print(\"Error while fetching: \", url, \", error:\", str(e))"
      ],
      "execution_count": null,
      "outputs": []
    },
    {
      "cell_type": "code",
      "metadata": {
        "id": "mwB-9WTW6gwk",
        "colab": {
          "base_uri": "https://localhost:8080/"
        },
        "outputId": "f90182fb-44b4-4f6c-8620-7180389a85e9"
      },
      "source": [
        "InferOnStreamingData()"
      ],
      "execution_count": null,
      "outputs": [
        {
          "output_type": "stream",
          "name": "stdout",
          "text": [
            "Reading article: 0  at URL:  https://www.investors.com/market-trend/stock-market-today/dow-jones-futures-stock-market-rally-revs-higher-google-microsoft-flash-buy-signals-what-to-do-now/\n",
            "Error while fetching:  https://www.investors.com/market-trend/stock-market-today/dow-jones-futures-stock-market-rally-revs-higher-google-microsoft-flash-buy-signals-what-to-do-now/ , error: HTTP Error 403: Forbidden\n",
            "Reading article: 1  at URL:  https://www.theverge.com/2021/12/7/22822332/amazon-server-aws-down-disney-plus-ring-outage\n",
            "Result:  ('Moderately Toxic: 0.69', 0.8318271428571429, 5)\n",
            "Reading article: 2  at URL:  https://www.cnbc.com/2021/12/07/microsoft-will-change-hiring-practices-after-doj-labor-settlement.html\n",
            "Result:  ('Moderately Toxic: 0.67', 0.8318271428571429, 5)\n",
            "Reading article: 3  at URL:  https://www.cnbc.com/2021/12/07/ford-is-doing-whatever-it-takes-to-double-production-capacity-for-electric-f-150-pickup-says-ceo.html\n",
            "Result:  ('Moderately Toxic: 0.67', 0.8318271428571429, 5)\n",
            "Reading article: 4  at URL:  https://www.foxbusiness.com/markets/hertz-senator-elizabeth-warren-letter-apollo\n",
            "Result:  ('Moderately Toxic: 0.69', 0.8318271428571429, 5)\n",
            "Reading article: 5  at URL:  https://arstechnica.com/gadgets/2021/12/report-apple-ceo-tim-cook-engineered-a-secret-275-billion-deal-with-china/\n",
            "Result:  ('Moderately Toxic: 0.7', 0.8318271428571429, 5)\n",
            "Reading article: 6  at URL:  https://www.wsj.com/articles/american-airlines-ceo-doug-parker-to-retire-11638878937\n",
            "Error while fetching:  https://www.wsj.com/articles/american-airlines-ceo-doug-parker-to-retire-11638878937 , error: HTTP Error 403: Forbidden\n",
            "Reading article: 7  at URL:  https://www.cnn.com/2021/12/07/health/covid-19-vaccine-boosters-for-kids-wellness/index.html\n",
            "Result:  ('Moderately Toxic: 0.65', 0.8318271428571429, 5)\n",
            "Reading article: 8  at URL:  https://www.theverge.com/2021/12/7/22822875/5g-faa-rule-c-band-landing-airport-bad-weather-visibility\n",
            "Result:  ('Moderately Toxic: 0.69', 0.8318271428571429, 5)\n",
            "Reading article: 9  at URL:  https://nypost.com/2021/12/07/plant-based-vaccine-shows-high-efficacy-against-covid-19/\n",
            "Result:  ('Severely Toxic: 0.7', 0.8318271428571429, 6)\n",
            "Reading article: 10  at URL:  https://www.cnn.com/2021/12/07/tech/elon-musk-wsj-government/index.html\n",
            "Result:  ('Severely Toxic: 0.71', 0.8318271428571429, 6)\n",
            "Reading article: 11  at URL:  http://techcrunch.com/2021/12/07/better-coms-pr-comms-marketing-heads-submit-resignations-in-wake-of-layoffs-fiasco/\n",
            "Result:  ('Moderately Toxic: 0.68', 0.8318271428571429, 5)\n",
            "Reading article: 12  at URL:  https://www.cnbc.com/2021/12/07/stocks-making-the-biggest-moves-after-hours-stitch-fix-pagerduty-dave-busters-and-more.html\n",
            "Result:  ('Moderately Toxic: 0.68', 0.8318271428571429, 5)\n",
            "Reading article: 13  at URL:  https://finance.yahoo.com/news/why-jack-in-the-box-just-devoured-del-taco-for-575-million-213828958.html\n"
          ]
        },
        {
          "output_type": "stream",
          "name": "stderr",
          "text": [
            "Some characters could not be decoded, and were replaced with REPLACEMENT CHARACTER.\n"
          ]
        },
        {
          "output_type": "stream",
          "name": "stdout",
          "text": [
            "Result:  ('Severely Toxic: 0.72', 0.8318271428571429, 6)\n",
            "Reading article: 14  at URL:  https://www.cnbc.com/2021/12/07/retail-icon-mickey-drexler-on-breaking-up-retailers-i-dont-get-it.html\n",
            "Result:  ('Moderately Toxic: 0.66', 0.8318271428571429, 5)\n",
            "Reading article: 15  at URL:  https://www.cnn.com/2021/12/07/tech/bitcoin-creator-trial-fortune/index.html\n",
            "Result:  ('Severely Toxic: 0.7', 0.8318271428571429, 6)\n",
            "Reading article: 16  at URL:  https://www.kitco.com/news/2021-12-07/Will-it-be-gold-or-U-S-dollar-at-new-record-highs-in-2022-I-m-bullish-on-gold-says-NDR-s-chief-global-investment-strategist.html\n",
            "Result:  ('Severely Toxic: 0.7', 0.8318271428571429, 6)\n",
            "Reading article: 17  at URL:  https://www.cnbc.com/2021/12/07/stitch-fix-sfix-q1-2022-earnings.html\n",
            "Result:  ('Moderately Toxic: 0.67', 0.8318271428571429, 5)\n",
            "Reading article: 18  at URL:  https://www.theverge.com/2021/12/7/22822454/power-companies-utilities-ev-fast-charging-network\n",
            "Result:  ('Moderately Toxic: 0.68', 0.8318271428571429, 5)\n",
            "Reading article: 19  at URL:  https://www.barrons.com/articles/apple-stock-price-virtual-reality-morgan-stanley-price-target-51638887518\n",
            "Error while fetching:  https://www.barrons.com/articles/apple-stock-price-virtual-reality-morgan-stanley-price-target-51638887518 , error: HTTP Error 403: Forbidden\n"
          ]
        }
      ]
    },
    {
      "cell_type": "markdown",
      "metadata": {
        "id": "1dp_5TcHMXtX"
      },
      "source": [
        "# **Team Member-Priyanka Devendran**\n",
        "\n",
        "## **Stance Factor**"
      ]
    },
    {
      "cell_type": "markdown",
      "metadata": {
        "id": "7wNUIMZ9KMM3"
      },
      "source": [
        "**Stance detection**\n",
        "\n",
        "Stance detection is the process of extraction of a subject's reaction to a claim made by a primary actor. It is a core part of a set of approaches to fake news assessment.\n",
        "\n",
        "**Objective**\n",
        "\n",
        "Fake news is defined as a “made up story with an intention to deceive, geared towards getting clicks”. Stance Detection is one of the factors influencing fake news detection. It is not practical for humans to fact check every piece of information produced by the media. Hence, the goal of this project is to use natural language processing (NLP) techniques to automate stance detection to determine the quality of the news source. It considers what other organizations write about the same subject. A body of the text is claimed to agree, disagree, discuss, or be unrelated to a subject."
      ]
    },
    {
      "cell_type": "markdown",
      "metadata": {
        "id": "yvCEurodKXu-"
      },
      "source": [
        "**MicroFactors**\n",
        "1. Reaction unrelated disagree, agree, discuss and unrelated\n",
        "2. TF-IDF of words in statements can help us identify stance\n",
        "3. Named entity relation \n",
        "4. Similar Statements tend to have Similar Stance \n"
      ]
    },
    {
      "cell_type": "markdown",
      "metadata": {
        "id": "bastSfH1XzSH"
      },
      "source": [
        "**Datasets**\n",
        "\n",
        "Liar-Liar Dataset\n",
        "Politi Fact - For Inference\n",
        "Twitter"
      ]
    },
    {
      "cell_type": "markdown",
      "metadata": {
        "id": "rnOi0hRT1HP4"
      },
      "source": [
        "**Model**\n",
        "Trained 6 different models (\"Logistic regression\", \"Decision Tree\", \"Random Forest\", \"KNN\", \"Naive Bayes\") to predict fakeness of statement between 1-6 using all the microfactors after distillation. \n",
        "\n",
        "Random Forest model gave the higest accuracy score of compared to other models, which is extracted and stored.\n",
        "\n",
        "\n",
        "![image.png](data:image/png;base64,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)"
      ]
    },
    {
      "cell_type": "code",
      "metadata": {
        "colab": {
          "base_uri": "https://localhost:8080/"
        },
        "id": "nsksLmgLIvpM",
        "outputId": "5ed14513-d635-4eb5-a06c-6a5160a5652f"
      },
      "source": [
        "import nltk\n",
        "nltk.download('vader_lexicon')\n",
        "nltk.download('punkt')\n",
        "nltk.download('wordnet')\n",
        "nltk.download('stopwords')\n",
        "import joblib \n",
        "import re\n",
        "from nltk.sentiment.vader import SentimentIntensityAnalyzer\n",
        "from nltk.corpus import stopwords\n",
        "from sklearn.model_selection import train_test_split\n",
        "from sklearn.feature_extraction.text import TfidfVectorizer\n",
        "from nltk import tokenize\n",
        "from nltk.tokenize import word_tokenize\n",
        "import pandas as pd\n",
        "import gdown"
      ],
      "execution_count": null,
      "outputs": [
        {
          "output_type": "stream",
          "name": "stdout",
          "text": [
            "[nltk_data] Downloading package vader_lexicon to /root/nltk_data...\n",
            "[nltk_data]   Package vader_lexicon is already up-to-date!\n",
            "[nltk_data] Downloading package punkt to /root/nltk_data...\n",
            "[nltk_data]   Package punkt is already up-to-date!\n",
            "[nltk_data] Downloading package wordnet to /root/nltk_data...\n",
            "[nltk_data]   Package wordnet is already up-to-date!\n",
            "[nltk_data] Downloading package stopwords to /root/nltk_data...\n",
            "[nltk_data]   Package stopwords is already up-to-date!\n"
          ]
        }
      ]
    },
    {
      "cell_type": "code",
      "metadata": {
        "colab": {
          "base_uri": "https://localhost:8080/"
        },
        "id": "nsSgmk4FIv-T",
        "outputId": "1b5b0404-980b-4389-b1a1-0148ae03c3c8"
      },
      "source": [
        "url='https://drive.google.com/uc?id=19_OSXUTqzkkmZfHbB84B1zJwNjN2Fdxe'\n",
        "output= \"le_speaker_job_title_code.pkl\"\n",
        "gdown.download(url,output,quiet=False)\n",
        "le_speaker_job_title_code=joblib.load('le_speaker_job_title_code.pkl')\n",
        "\n",
        "url='https://drive.google.com/uc?id=1MsEv8mclaVusSe9C7h_2jlCXusSM1dwB'\n",
        "output= \"le_speaker.pkl\"\n",
        "gdown.download(url,output,quiet=False)\n",
        "le_speaker=joblib.load('le_speaker.pkl')\n",
        "\n",
        "url='https://drive.google.com/uc?id=1TBALWJjMRSBPCrS0D1m49784aE3F2Bb4'\n",
        "output= \"RForest.pkl\"\n",
        "gdown.download(url,output,quiet=False)\n",
        "loaded_model=joblib.load('RForest.pkl')\n",
        "\n",
        "url='https://drive.google.com/uc?id=1QIYM0h6v6zc84y-rvCGbi_aGwJhmlHSL'\n",
        "output= \"le_state_info_code.pkl\"\n",
        "gdown.download(url,output,quiet=False)\n",
        "le_state_info_code=joblib.load('le_state_info_code.pkl')\n",
        "\n",
        "url='https://drive.google.com/uc?id=1FVqiACCZHDr-4NDYYT8RWUxz6Ch28-TC'\n",
        "output= \"vectorizer.pkl\"\n",
        "gdown.download(url,output,quiet=False)\n",
        "vector=joblib.load('vectorizer.pkl')\n",
        "\n",
        "url='https://drive.google.com/uc?id=1zV2giAiQI6Qquzf1KZhGJ2o1Z1qee1ad'\n",
        "output= \"XGB.pkl\"\n",
        "gdown.download(url,output,quiet=False)\n",
        "model=joblib.load('XGB.pkl')"
      ],
      "execution_count": null,
      "outputs": [
        {
          "output_type": "stream",
          "name": "stderr",
          "text": [
            "Downloading...\n",
            "From: https://drive.google.com/uc?id=19_OSXUTqzkkmZfHbB84B1zJwNjN2Fdxe\n",
            "To: /content/le_speaker_job_title_code.pkl\n",
            "100%|██████████| 46.7k/46.7k [00:00<00:00, 17.3MB/s]\n",
            "/usr/local/lib/python3.7/dist-packages/sklearn/base.py:333: UserWarning: Trying to unpickle estimator LabelEncoder from version 0.22.2.post1 when using version 1.0.1. This might lead to breaking code or invalid results. Use at your own risk. For more info please refer to:\n",
            "https://scikit-learn.org/stable/modules/model_persistence.html#security-maintainability-limitations\n",
            "  UserWarning,\n",
            "Downloading...\n",
            "From: https://drive.google.com/uc?id=1MsEv8mclaVusSe9C7h_2jlCXusSM1dwB\n",
            "To: /content/le_speaker.pkl\n",
            "100%|██████████| 72.7k/72.7k [00:00<00:00, 56.1MB/s]\n",
            "Downloading...\n",
            "From: https://drive.google.com/uc?id=1TBALWJjMRSBPCrS0D1m49784aE3F2Bb4\n",
            "To: /content/RForest.pkl\n",
            "100%|██████████| 43.8M/43.8M [00:00<00:00, 175MB/s]\n",
            "/usr/local/lib/python3.7/dist-packages/sklearn/base.py:333: UserWarning: Trying to unpickle estimator DecisionTreeClassifier from version 0.22.2.post1 when using version 1.0.1. This might lead to breaking code or invalid results. Use at your own risk. For more info please refer to:\n",
            "https://scikit-learn.org/stable/modules/model_persistence.html#security-maintainability-limitations\n",
            "  UserWarning,\n",
            "/usr/local/lib/python3.7/dist-packages/sklearn/base.py:333: UserWarning: Trying to unpickle estimator RandomForestClassifier from version 0.22.2.post1 when using version 1.0.1. This might lead to breaking code or invalid results. Use at your own risk. For more info please refer to:\n",
            "https://scikit-learn.org/stable/modules/model_persistence.html#security-maintainability-limitations\n",
            "  UserWarning,\n",
            "Downloading...\n",
            "From: https://drive.google.com/uc?id=1QIYM0h6v6zc84y-rvCGbi_aGwJhmlHSL\n",
            "To: /content/le_state_info_code.pkl\n",
            "100%|██████████| 1.94k/1.94k [00:00<00:00, 3.98MB/s]\n",
            "Downloading...\n",
            "From: https://drive.google.com/uc?id=1FVqiACCZHDr-4NDYYT8RWUxz6Ch28-TC\n",
            "To: /content/vectorizer.pkl\n",
            "100%|██████████| 2.20M/2.20M [00:00<00:00, 113MB/s]\n",
            "/usr/local/lib/python3.7/dist-packages/sklearn/base.py:333: UserWarning: Trying to unpickle estimator TfidfTransformer from version 0.22.2.post1 when using version 1.0.1. This might lead to breaking code or invalid results. Use at your own risk. For more info please refer to:\n",
            "https://scikit-learn.org/stable/modules/model_persistence.html#security-maintainability-limitations\n",
            "  UserWarning,\n",
            "/usr/local/lib/python3.7/dist-packages/sklearn/base.py:333: UserWarning: Trying to unpickle estimator TfidfVectorizer from version 0.22.2.post1 when using version 1.0.1. This might lead to breaking code or invalid results. Use at your own risk. For more info please refer to:\n",
            "https://scikit-learn.org/stable/modules/model_persistence.html#security-maintainability-limitations\n",
            "  UserWarning,\n",
            "Downloading...\n",
            "From: https://drive.google.com/uc?id=1zV2giAiQI6Qquzf1KZhGJ2o1Z1qee1ad\n",
            "To: /content/XGB.pkl\n",
            "100%|██████████| 341k/341k [00:00<00:00, 52.6MB/s]\n"
          ]
        }
      ]
    },
    {
      "cell_type": "code",
      "metadata": {
        "colab": {
          "base_uri": "https://localhost:8080/"
        },
        "id": "6sTxVKcpI3gc",
        "outputId": "b7fc20d7-c3c1-43e0-ec07-bf2fffd5b489"
      },
      "source": [
        "stop_words = set(stopwords.words('english')) \n",
        "vector=joblib.load('vectorizer.pkl')\n",
        "loaded_model=joblib.load('RForest.pkl')"
      ],
      "execution_count": null,
      "outputs": [
        {
          "output_type": "stream",
          "name": "stderr",
          "text": [
            "/usr/local/lib/python3.7/dist-packages/sklearn/base.py:333: UserWarning: Trying to unpickle estimator TfidfTransformer from version 0.22.2.post1 when using version 1.0.1. This might lead to breaking code or invalid results. Use at your own risk. For more info please refer to:\n",
            "https://scikit-learn.org/stable/modules/model_persistence.html#security-maintainability-limitations\n",
            "  UserWarning,\n",
            "/usr/local/lib/python3.7/dist-packages/sklearn/base.py:333: UserWarning: Trying to unpickle estimator TfidfVectorizer from version 0.22.2.post1 when using version 1.0.1. This might lead to breaking code or invalid results. Use at your own risk. For more info please refer to:\n",
            "https://scikit-learn.org/stable/modules/model_persistence.html#security-maintainability-limitations\n",
            "  UserWarning,\n",
            "/usr/local/lib/python3.7/dist-packages/sklearn/base.py:333: UserWarning: Trying to unpickle estimator DecisionTreeClassifier from version 0.22.2.post1 when using version 1.0.1. This might lead to breaking code or invalid results. Use at your own risk. For more info please refer to:\n",
            "https://scikit-learn.org/stable/modules/model_persistence.html#security-maintainability-limitations\n",
            "  UserWarning,\n",
            "/usr/local/lib/python3.7/dist-packages/sklearn/base.py:333: UserWarning: Trying to unpickle estimator RandomForestClassifier from version 0.22.2.post1 when using version 1.0.1. This might lead to breaking code or invalid results. Use at your own risk. For more info please refer to:\n",
            "https://scikit-learn.org/stable/modules/model_persistence.html#security-maintainability-limitations\n",
            "  UserWarning,\n"
          ]
        }
      ]
    },
    {
      "cell_type": "code",
      "metadata": {
        "id": "ewV8AnPhpC9D"
      },
      "source": [
        "def getStaances(statement):\n",
        "\n",
        "  df=pd.DataFrame([])\n",
        "  df['Stance']=get_stances(statement)\n",
        "  prediction=model.predict(df)\n",
        "  prediction_probability=model.predict_proba(df)\n",
        "  return prediction_probability.tolist()[0]"
      ],
      "execution_count": null,
      "outputs": []
    },
    {
      "cell_type": "code",
      "metadata": {
        "id": "I_6pWwjlI6ez"
      },
      "source": [
        "def getStanceScore(statement):\n",
        "  val=3256\n",
        "  accu=0.42\n",
        "  new_statement= re.sub(r\"\\W\", \" \",str(statement))\n",
        "  new_statement=re.sub(r'[,\\.!?]', \" \",str(new_statement))\n",
        "  new_statement=re.sub(r\" \\d+\", \" \",str(new_statement))\n",
        "  new_statement=word_tokenize(new_statement.lower())\n",
        "  new_statement=' '.join(new_statement)\n",
        "  new_statement=' '.join([word for word in new_statement.split() if word not in stop_words])\n",
        "  liar_model = vector.transform([new_statement])\n",
        "  # stance=loaded_model.predict([[8,90]])\n",
        "  # print(liar_model)\n",
        "  stance=loaded_model.predict_proba(liar_model)\n",
        "  # print(stance)\n",
        "  return stance[0][0]\n",
        "\n",
        "# getStanceScore(\"I will kill you\")"
      ],
      "execution_count": null,
      "outputs": []
    },
    {
      "cell_type": "markdown",
      "metadata": {
        "id": "xiPSA5N8MxPu"
      },
      "source": [
        "#**Combining All Factors Using Polynomial Equation**\n",
        "    Sentiment\n",
        "    Toxicity\n",
        "    Stance\n",
        "    Veracity\n",
        "##**Generating Truthfulness on True-O-Meter**\n",
        "    1 - true\n",
        "    2 - moderately true\n",
        "    3 - half true\n",
        "    4 - barely true\n",
        "    5 - false\n",
        "    6 - pants on fire\n",
        "\n",
        "##**Pipeline For Inference** - running 20 inference on live data"
      ]
    },
    {
      "cell_type": "code",
      "metadata": {
        "id": "sTPLZa-OSIts"
      },
      "source": [
        "def GetToxicityScore(text):\n",
        "  \"\"\"\n",
        "  GetToxicityScore() return a tuple with predicted probabilty, overall combined probabilities and Toxicity numeric score [1-6]\n",
        "  toxicity_score[0] = Predicted Probabilty for unseen text\n",
        "  toxicity_score[1] = Seven trained models combined model probabilties\n",
        "  toxicity_score[2] = Toxicity numeric score [1-6]\n",
        "  \"\"\"\n",
        "\n",
        "  if not text:\n",
        "    text = \"Don't dare to talk to me like that, I will kill you\"\n",
        "\n",
        "  score = combined_models(text)\n",
        "  return score\n",
        "\n",
        "\n",
        "def TruthScore(statement):\n",
        "  \"\"\"\n",
        "    index 0: Sentiment Model Accuracy \n",
        "    index 1: Stance Model Accuracy\n",
        "    index 2: Toxicity Model Accuracy\n",
        "    index 3: Veracity Model Accuracy\n",
        "  \"\"\"\n",
        "  toxicity_score = GetToxicityScore(statement)\n",
        "  sentiment_score = get_sentiment_score(statement)\n",
        "  stance_score = getStanceScore(statement)\n",
        "  #veracity_score, acc = get_veracity_scores_accuracy(statement)\n",
        "  veracity_score = 0.26\n",
        "\n",
        "  result = {\n",
        "      \"Toxicity\": \"\",\n",
        "      \"Sentiment\": sentiment_score,\n",
        "      \"Stance\": stance_score,\n",
        "      \"Veracity\": veracity_score\n",
        "  }\n",
        "  # accur = [sentiment_score, stance_score[1], toxicity_score[1], veracity_score[1]]\n",
        "  accur = [0.30, 0.42, 0.81, 0.27]\n",
        "  w = [float(i)/sum(accur) for i in accur]\n",
        "  sumW = 0\n",
        "  prob = []\n",
        "  \n",
        "  if statement!=\"\":\n",
        "    prob.append(w[0] * sentiment_score)\n",
        "    sumW += w[0] * sentiment_score\n",
        "  \n",
        "  if (statement!=''):\n",
        "  \n",
        "    prob.append(w[1] * stance_score)\n",
        "    sumW += w[1]\n",
        "  \n",
        "  if statement:\n",
        "    \n",
        "    x = toxicity_score[0].split(\":\")[1].strip()\n",
        "    result[\"Toxicity\"] = str(x) #+ \", \" + str(toxicity_score[2])\n",
        "    prob.append(w[2] * toxicity_score[1])\n",
        "    sumW += w[2]\n",
        "\n",
        "  if statement!=\"\":\n",
        "    prob.append(w[3] * 0.27) # veracity_score[1])\n",
        "    sumW += w[3]\n",
        "\n",
        "  score = sum(prob)/sumW\n",
        "  a = 0\n",
        "  if score <= 0.20:\n",
        "    a = 1, \"True\" \n",
        "  elif score > 0.20 and score <= 0.50:\n",
        "    a = 2, \"Moderately True\"\n",
        "  elif score > 0.50 and score <= 0.65:\n",
        "    a = 3, \"Half True\"\n",
        "  elif score > 0.65 and score <= 0.70:\n",
        "    a = 4, \"Barely True\"\n",
        "  elif score > 0.70 and score <= 0.85:\n",
        "    a = 5, \"False\"\n",
        "  elif score > 0.85:\n",
        "    a = 6, \"Pants On Fire\"\n",
        "\n",
        "  result[\"TruthScore\"] = a\n",
        "  return result"
      ],
      "execution_count": null,
      "outputs": []
    },
    {
      "cell_type": "code",
      "metadata": {
        "id": "IuFBOrn-p27A",
        "colab": {
          "base_uri": "https://localhost:8080/"
        },
        "outputId": "ca4bf468-753a-4699-aa77-1682a4457821"
      },
      "source": [
        "result = TruthScore(\"Don't dare to talk to me like that, I will kill you\")\n",
        "result"
      ],
      "execution_count": null,
      "outputs": [
        {
          "output_type": "execute_result",
          "data": {
            "text/plain": [
              "{'Sentiment': 0.30267299667758335,\n",
              " 'Stance': 0.4766666666666666,\n",
              " 'Toxicity': '0.7',\n",
              " 'TruthScore': (4, 'Barely True'),\n",
              " 'Veracity': 0.26}"
            ]
          },
          "metadata": {},
          "execution_count": 41
        }
      ]
    },
    {
      "cell_type": "code",
      "metadata": {
        "id": "TgkA4Psju35a"
      },
      "source": [
        "import requests\n",
        "def InferAllOnStreamingData():\n",
        "  news_articles = get_news_articles()\n",
        "  for id, article in enumerate(news_articles):\n",
        "      try:\n",
        "          url = article[\"url\"]\n",
        "          print(\"Reading article:\", str(id), \" at URL: \", url)\n",
        "          content = html_to_text(url)\n",
        "          result = TruthScore(content)                    \n",
        "          print(\"Result: \", result)\n",
        "      except Exception as e:\n",
        "          print(\"Error while fetching: \", url, \", error:\", str(e))"
      ],
      "execution_count": null,
      "outputs": []
    },
    {
      "cell_type": "code",
      "metadata": {
        "colab": {
          "base_uri": "https://localhost:8080/"
        },
        "id": "Gzcib9x-3IUw",
        "outputId": "a32e6f36-a064-4461-ff05-4957a9d2ccb5"
      },
      "source": [
        "InferAllOnStreamingData()"
      ],
      "execution_count": null,
      "outputs": [
        {
          "output_type": "stream",
          "name": "stdout",
          "text": [
            "Reading article: 0  at URL:  https://www.npr.org/2021/12/07/1062240467/kellogg-to-hire-replacements-for-striking-workers-who-rejected-a-proposed-contra\n",
            "Result:  {'Toxicity': '0.67', 'Sentiment': 0.005251667549735749, 'Stance': 0.7806666666666666, 'Veracity': 0.26, 'TruthScore': (5, 'False')}\n",
            "Reading article: 1  at URL:  https://www.foxbusiness.com/markets/apple-tim-cook-secret-deal-china\n",
            "Result:  {'Toxicity': '0.7', 'Sentiment': 0.006917403341786234, 'Stance': 0.775142857142857, 'Veracity': 0.26, 'TruthScore': (5, 'False')}\n",
            "Reading article: 2  at URL:  https://www.youtube.com/watch?v=7Bo_Flfol1k\n",
            "Result:  {'Toxicity': '0.68', 'Sentiment': 0.20443263128284572, 'Stance': 0.6338333333333334, 'Veracity': 0.26, 'TruthScore': (4, 'Barely True')}\n",
            "Reading article: 3  at URL:  https://www.theverge.com/2021/12/7/22823093/twitter-new-ceo-parag-agrawal-move-faster-interview\n",
            "Result:  {'Toxicity': '0.68', 'Sentiment': 0.054396636161517783, 'Stance': 0.75, 'Veracity': 0.26, 'TruthScore': (5, 'False')}\n",
            "Reading article: 4  at URL:  https://www.theverge.com/2021/12/7/22822332/amazon-server-aws-down-disney-plus-ring-outage\n",
            "Result:  {'Toxicity': '0.69', 'Sentiment': 0.01013356810178275, 'Stance': 0.7153333333333333, 'Veracity': 0.26, 'TruthScore': (4, 'Barely True')}\n",
            "Reading article: 5  at URL:  http://techcrunch.com/2021/12/07/better-com-ceo-vishal-garg-apologizes-to-current-employees-for-blundering-the-execution-of-mass-layoffs/\n",
            "Result:  {'Toxicity': '0.67', 'Sentiment': 0.06469845687015069, 'Stance': 0.7339999999999999, 'Veracity': 0.26, 'TruthScore': (5, 'False')}\n",
            "Reading article: 6  at URL:  https://www.reuters.com/markets/us/us-trade-deficit-shrinks-exports-surge-record-high-2021-12-07/\n",
            "Result:  {'Toxicity': '0.69', 'Sentiment': 0.018388252207928776, 'Stance': 0.7664999999999997, 'Veracity': 0.26, 'TruthScore': (5, 'False')}\n",
            "Reading article: 7  at URL:  https://www.foxnews.com/media/fox-news-media-suzanne-scott-forbes-list-most-powerful-women\n",
            "Result:  {'Toxicity': '0.7', 'Sentiment': 0.00022707394858190904, 'Stance': 0.6980000000000001, 'Veracity': 0.26, 'TruthScore': (4, 'Barely True')}\n",
            "Reading article: 8  at URL:  https://www.cnbc.com/2021/12/07/cramers-lightning-round-illumina-and-sofi-are-buys.html\n",
            "Result:  {'Toxicity': '0.67', 'Sentiment': 0.0916358300335892, 'Stance': 0.7206666666666667, 'Veracity': 0.26, 'TruthScore': (5, 'False')}\n",
            "Reading article: 9  at URL:  https://www.cnbc.com/2021/12/07/microsoft-will-change-hiring-practices-after-doj-labor-settlement.html\n",
            "Result:  {'Toxicity': '0.67', 'Sentiment': 0.017942331132368892, 'Stance': 0.7125714285714285, 'Veracity': 0.26, 'TruthScore': (4, 'Barely True')}\n",
            "Reading article: 10  at URL:  https://www.cnbc.com/2021/12/07/ford-is-doing-whatever-it-takes-to-double-production-capacity-for-electric-f-150-pickup-says-ceo.html\n",
            "Result:  {'Toxicity': '0.67', 'Sentiment': 0.03299368864595836, 'Stance': 0.7789761904761906, 'Veracity': 0.26, 'TruthScore': (5, 'False')}\n",
            "Reading article: 11  at URL:  https://www.cnbc.com/2021/12/08/asia-markets-weibo-listing-in-hong-kong-oil-and-currencies.html\n",
            "Result:  {'Toxicity': '0.69', 'Sentiment': 0.028943348372409573, 'Stance': 0.7315238095238095, 'Veracity': 0.26, 'TruthScore': (5, 'False')}\n",
            "Reading article: 12  at URL:  https://www.foxbusiness.com/markets/hertz-senator-elizabeth-warren-letter-apollo\n",
            "Result:  {'Toxicity': '0.69', 'Sentiment': 0.001309462047777622, 'Stance': 0.6683333333333334, 'Veracity': 0.26, 'TruthScore': (4, 'Barely True')}\n",
            "Reading article: 13  at URL:  https://www.cnbc.com/2021/12/07/stock-market-futures-open-to-close-news.html\n",
            "Result:  {'Toxicity': '0.67', 'Sentiment': 0.026849722500824097, 'Stance': 0.6960476190476191, 'Veracity': 0.26, 'TruthScore': (4, 'Barely True')}\n",
            "Reading article: 14  at URL:  https://www.wlky.com/article/publix-second-location-store-louisville-kentucky/38451151\n",
            "Result:  {'Toxicity': '0.68', 'Sentiment': 0.018274392591653914, 'Stance': 0.7058333333333333, 'Veracity': 0.26, 'TruthScore': (4, 'Barely True')}\n",
            "Reading article: 15  at URL:  https://www.wsj.com/articles/american-airlines-ceo-doug-parker-to-retire-11638878937\n",
            "Error while fetching:  https://www.wsj.com/articles/american-airlines-ceo-doug-parker-to-retire-11638878937 , error: HTTP Error 403: Forbidden\n",
            "Reading article: 16  at URL:  https://www.cnn.com/2021/12/07/health/covid-19-vaccine-boosters-for-kids-wellness/index.html\n",
            "Result:  {'Toxicity': '0.65', 'Sentiment': 0.022026600525977966, 'Stance': 0.6916666666666669, 'Veracity': 0.26, 'TruthScore': (4, 'Barely True')}\n",
            "Reading article: 17  at URL:  https://www.wsj.com/articles/epa-cuts-ethanol-requirement-for-gasoline-11638909035\n",
            "Error while fetching:  https://www.wsj.com/articles/epa-cuts-ethanol-requirement-for-gasoline-11638909035 , error: HTTP Error 403: Forbidden\n",
            "Reading article: 18  at URL:  https://www.theverge.com/2021/12/7/22822875/5g-faa-rule-c-band-landing-airport-bad-weather-visibility\n",
            "Result:  {'Toxicity': '0.69', 'Sentiment': 0.03786447447410512, 'Stance': 0.6855000000000001, 'Veracity': 0.26, 'TruthScore': (4, 'Barely True')}\n",
            "Reading article: 19  at URL:  https://arstechnica.com/cars/2021/12/power-companies-band-together-for-coast-to-coast-ev-fast-charger-network/\n",
            "Result:  {'Toxicity': '0.67', 'Sentiment': 0.06743803938780538, 'Stance': 0.7588888888888888, 'Veracity': 0.26, 'TruthScore': (5, 'False')}\n"
          ]
        }
      ]
    },
    {
      "cell_type": "code",
      "metadata": {
        "id": "nEEOmgYd3Jlk"
      },
      "source": [
        ""
      ],
      "execution_count": null,
      "outputs": []
    }
  ]
}